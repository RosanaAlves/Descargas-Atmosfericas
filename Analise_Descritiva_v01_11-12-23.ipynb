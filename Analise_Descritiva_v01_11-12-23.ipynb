{
 "cells": [
  {
   "cell_type": "markdown",
   "metadata": {},
   "source": [
    "# Título"
   ]
  },
  {
   "cell_type": "markdown",
   "metadata": {},
   "source": [
    "## Contexto"
   ]
  },
  {
   "cell_type": "code",
   "execution_count": 107,
   "metadata": {},
   "outputs": [],
   "source": [
    "# pip install folium"
   ]
  },
  {
   "cell_type": "markdown",
   "metadata": {},
   "source": [
    "## Análise descritiva"
   ]
  },
  {
   "cell_type": "code",
   "execution_count": 2,
   "metadata": {},
   "outputs": [],
   "source": [
    "# Bibliotecas\n",
    "\n",
    "import numpy as np\n",
    "import pandas as pd\n",
    "import datetime as dt\n",
    "import matplotlib.pyplot as plt\n",
    "import folium\n"
   ]
  },
  {
   "cell_type": "code",
   "execution_count": 3,
   "metadata": {},
   "outputs": [],
   "source": [
    "# Carregando o arquivo csv\n",
    "\n",
    "dados_df = pd.read_csv(\"/home/rosana/Documents/Processo_seletivo_Fintec( Estagio em ciencia de dados)/dataset_2022.csv\")\n",
    "dados_df;"
   ]
  },
  {
   "cell_type": "code",
   "execution_count": 4,
   "metadata": {},
   "outputs": [
    {
     "data": {
      "text/html": [
       "<div>\n",
       "<style scoped>\n",
       "    .dataframe tbody tr th:only-of-type {\n",
       "        vertical-align: middle;\n",
       "    }\n",
       "\n",
       "    .dataframe tbody tr th {\n",
       "        vertical-align: top;\n",
       "    }\n",
       "\n",
       "    .dataframe thead th {\n",
       "        text-align: right;\n",
       "    }\n",
       "</style>\n",
       "<table border=\"1\" class=\"dataframe\">\n",
       "  <thead>\n",
       "    <tr style=\"text-align: right;\">\n",
       "      <th></th>\n",
       "      <th>Data</th>\n",
       "      <th>Latitude</th>\n",
       "      <th>Longitude</th>\n",
       "      <th>Tipo</th>\n",
       "    </tr>\n",
       "  </thead>\n",
       "  <tbody>\n",
       "    <tr>\n",
       "      <th>0</th>\n",
       "      <td>2022-01-01 16:55:56-03:00</td>\n",
       "      <td>-20.326783</td>\n",
       "      <td>-45.989391</td>\n",
       "      <td>0</td>\n",
       "    </tr>\n",
       "    <tr>\n",
       "      <th>1</th>\n",
       "      <td>2022-01-01 16:55:56-03:00</td>\n",
       "      <td>-20.322183</td>\n",
       "      <td>-45.987291</td>\n",
       "      <td>0</td>\n",
       "    </tr>\n",
       "    <tr>\n",
       "      <th>2</th>\n",
       "      <td>2022-01-01 16:55:56.985000-03:00</td>\n",
       "      <td>-20.337263</td>\n",
       "      <td>-45.975291</td>\n",
       "      <td>1</td>\n",
       "    </tr>\n",
       "    <tr>\n",
       "      <th>3</th>\n",
       "      <td>2022-01-01 16:55:56.997000-03:00</td>\n",
       "      <td>-20.334103</td>\n",
       "      <td>-45.985891</td>\n",
       "      <td>0</td>\n",
       "    </tr>\n",
       "    <tr>\n",
       "      <th>4</th>\n",
       "      <td>2022-01-01 16:55:57-03:00</td>\n",
       "      <td>-20.333383</td>\n",
       "      <td>-46.018591</td>\n",
       "      <td>0</td>\n",
       "    </tr>\n",
       "    <tr>\n",
       "      <th>...</th>\n",
       "      <td>...</td>\n",
       "      <td>...</td>\n",
       "      <td>...</td>\n",
       "      <td>...</td>\n",
       "    </tr>\n",
       "    <tr>\n",
       "      <th>220696</th>\n",
       "      <td>2022-12-31 21:14:53.433000-03:00</td>\n",
       "      <td>-19.867303</td>\n",
       "      <td>-45.706591</td>\n",
       "      <td>1</td>\n",
       "    </tr>\n",
       "    <tr>\n",
       "      <th>220697</th>\n",
       "      <td>2022-12-31 21:14:53.455790-03:00</td>\n",
       "      <td>-19.898383</td>\n",
       "      <td>-45.744691</td>\n",
       "      <td>1</td>\n",
       "    </tr>\n",
       "    <tr>\n",
       "      <th>220698</th>\n",
       "      <td>2022-12-31 21:17:14.225225-03:00</td>\n",
       "      <td>-19.898783</td>\n",
       "      <td>-45.743891</td>\n",
       "      <td>1</td>\n",
       "    </tr>\n",
       "    <tr>\n",
       "      <th>220699</th>\n",
       "      <td>2022-12-31 21:19:20.140002-03:00</td>\n",
       "      <td>-19.850383</td>\n",
       "      <td>-45.746191</td>\n",
       "      <td>1</td>\n",
       "    </tr>\n",
       "    <tr>\n",
       "      <th>220700</th>\n",
       "      <td>2022-12-31 21:21:54.263374-03:00</td>\n",
       "      <td>-19.866583</td>\n",
       "      <td>-45.770191</td>\n",
       "      <td>1</td>\n",
       "    </tr>\n",
       "  </tbody>\n",
       "</table>\n",
       "<p>220701 rows × 4 columns</p>\n",
       "</div>"
      ],
      "text/plain": [
       "                                    Data   Latitude  Longitude  Tipo\n",
       "0              2022-01-01 16:55:56-03:00 -20.326783 -45.989391     0\n",
       "1              2022-01-01 16:55:56-03:00 -20.322183 -45.987291     0\n",
       "2       2022-01-01 16:55:56.985000-03:00 -20.337263 -45.975291     1\n",
       "3       2022-01-01 16:55:56.997000-03:00 -20.334103 -45.985891     0\n",
       "4              2022-01-01 16:55:57-03:00 -20.333383 -46.018591     0\n",
       "...                                  ...        ...        ...   ...\n",
       "220696  2022-12-31 21:14:53.433000-03:00 -19.867303 -45.706591     1\n",
       "220697  2022-12-31 21:14:53.455790-03:00 -19.898383 -45.744691     1\n",
       "220698  2022-12-31 21:17:14.225225-03:00 -19.898783 -45.743891     1\n",
       "220699  2022-12-31 21:19:20.140002-03:00 -19.850383 -45.746191     1\n",
       "220700  2022-12-31 21:21:54.263374-03:00 -19.866583 -45.770191     1\n",
       "\n",
       "[220701 rows x 4 columns]"
      ]
     },
     "execution_count": 4,
     "metadata": {},
     "output_type": "execute_result"
    }
   ],
   "source": [
    "# Alterando a primeira letra do nome de cada coluna.\n",
    "\n",
    "dados_df.columns = dados_df.columns.str.strip().str.capitalize() \n",
    "dados_df"
   ]
  },
  {
   "cell_type": "code",
   "execution_count": 5,
   "metadata": {},
   "outputs": [
    {
     "data": {
      "text/plain": [
       "0                2022-01-01 16:55:56-03:00\n",
       "1                2022-01-01 16:55:56-03:00\n",
       "2         2022-01-01 16:55:56.985000-03:00\n",
       "3         2022-01-01 16:55:56.997000-03:00\n",
       "4                2022-01-01 16:55:57-03:00\n",
       "                        ...               \n",
       "220696    2022-12-31 21:14:53.433000-03:00\n",
       "220697    2022-12-31 21:14:53.455790-03:00\n",
       "220698    2022-12-31 21:17:14.225225-03:00\n",
       "220699    2022-12-31 21:19:20.140002-03:00\n",
       "220700    2022-12-31 21:21:54.263374-03:00\n",
       "Name: Data, Length: 220701, dtype: object"
      ]
     },
     "execution_count": 5,
     "metadata": {},
     "output_type": "execute_result"
    }
   ],
   "source": [
    "df = dados_df\n",
    "df['Data']"
   ]
  },
  {
   "cell_type": "code",
   "execution_count": 6,
   "metadata": {},
   "outputs": [
    {
     "data": {
      "text/plain": [
       "0               2022-01-01 16:55:56-03:00\n",
       "1               2022-01-01 16:55:56-03:00\n",
       "2        2022-01-01 16:55:56.985000-03:00\n",
       "3        2022-01-01 16:55:56.997000-03:00\n",
       "4               2022-01-01 16:55:57-03:00\n",
       "                       ...               \n",
       "220696   2022-12-31 21:14:53.433000-03:00\n",
       "220697   2022-12-31 21:14:53.455790-03:00\n",
       "220698   2022-12-31 21:17:14.225225-03:00\n",
       "220699   2022-12-31 21:19:20.140002-03:00\n",
       "220700   2022-12-31 21:21:54.263374-03:00\n",
       "Name: Data, Length: 220701, dtype: datetime64[ns, pytz.FixedOffset(-180)]"
      ]
     },
     "execution_count": 6,
     "metadata": {},
     "output_type": "execute_result"
    }
   ],
   "source": [
    "# Alterando o formato da coluna Data para data e hora.\n",
    "\n",
    "df['Data'] = pd.to_datetime(df['Data']) \n",
    "df['Data'] "
   ]
  },
  {
   "cell_type": "code",
   "execution_count": 7,
   "metadata": {},
   "outputs": [
    {
     "data": {
      "text/html": [
       "<div>\n",
       "<style scoped>\n",
       "    .dataframe tbody tr th:only-of-type {\n",
       "        vertical-align: middle;\n",
       "    }\n",
       "\n",
       "    .dataframe tbody tr th {\n",
       "        vertical-align: top;\n",
       "    }\n",
       "\n",
       "    .dataframe thead th {\n",
       "        text-align: right;\n",
       "    }\n",
       "</style>\n",
       "<table border=\"1\" class=\"dataframe\">\n",
       "  <thead>\n",
       "    <tr style=\"text-align: right;\">\n",
       "      <th></th>\n",
       "      <th>Data</th>\n",
       "      <th>Latitude</th>\n",
       "      <th>Longitude</th>\n",
       "      <th>Tipo</th>\n",
       "      <th>Dia</th>\n",
       "      <th>Mes</th>\n",
       "      <th>Ano</th>\n",
       "      <th>Hora</th>\n",
       "    </tr>\n",
       "  </thead>\n",
       "  <tbody>\n",
       "    <tr>\n",
       "      <th>0</th>\n",
       "      <td>2022-01-01 16:55:56-03:00</td>\n",
       "      <td>-20.326783</td>\n",
       "      <td>-45.989391</td>\n",
       "      <td>0</td>\n",
       "      <td>1</td>\n",
       "      <td>1</td>\n",
       "      <td>2022</td>\n",
       "      <td>16</td>\n",
       "    </tr>\n",
       "    <tr>\n",
       "      <th>1</th>\n",
       "      <td>2022-01-01 16:55:56-03:00</td>\n",
       "      <td>-20.322183</td>\n",
       "      <td>-45.987291</td>\n",
       "      <td>0</td>\n",
       "      <td>1</td>\n",
       "      <td>1</td>\n",
       "      <td>2022</td>\n",
       "      <td>16</td>\n",
       "    </tr>\n",
       "    <tr>\n",
       "      <th>2</th>\n",
       "      <td>2022-01-01 16:55:56.985000-03:00</td>\n",
       "      <td>-20.337263</td>\n",
       "      <td>-45.975291</td>\n",
       "      <td>1</td>\n",
       "      <td>1</td>\n",
       "      <td>1</td>\n",
       "      <td>2022</td>\n",
       "      <td>16</td>\n",
       "    </tr>\n",
       "    <tr>\n",
       "      <th>3</th>\n",
       "      <td>2022-01-01 16:55:56.997000-03:00</td>\n",
       "      <td>-20.334103</td>\n",
       "      <td>-45.985891</td>\n",
       "      <td>0</td>\n",
       "      <td>1</td>\n",
       "      <td>1</td>\n",
       "      <td>2022</td>\n",
       "      <td>16</td>\n",
       "    </tr>\n",
       "    <tr>\n",
       "      <th>4</th>\n",
       "      <td>2022-01-01 16:55:57-03:00</td>\n",
       "      <td>-20.333383</td>\n",
       "      <td>-46.018591</td>\n",
       "      <td>0</td>\n",
       "      <td>1</td>\n",
       "      <td>1</td>\n",
       "      <td>2022</td>\n",
       "      <td>16</td>\n",
       "    </tr>\n",
       "    <tr>\n",
       "      <th>...</th>\n",
       "      <td>...</td>\n",
       "      <td>...</td>\n",
       "      <td>...</td>\n",
       "      <td>...</td>\n",
       "      <td>...</td>\n",
       "      <td>...</td>\n",
       "      <td>...</td>\n",
       "      <td>...</td>\n",
       "    </tr>\n",
       "    <tr>\n",
       "      <th>220696</th>\n",
       "      <td>2022-12-31 21:14:53.433000-03:00</td>\n",
       "      <td>-19.867303</td>\n",
       "      <td>-45.706591</td>\n",
       "      <td>1</td>\n",
       "      <td>31</td>\n",
       "      <td>12</td>\n",
       "      <td>2022</td>\n",
       "      <td>21</td>\n",
       "    </tr>\n",
       "    <tr>\n",
       "      <th>220697</th>\n",
       "      <td>2022-12-31 21:14:53.455790-03:00</td>\n",
       "      <td>-19.898383</td>\n",
       "      <td>-45.744691</td>\n",
       "      <td>1</td>\n",
       "      <td>31</td>\n",
       "      <td>12</td>\n",
       "      <td>2022</td>\n",
       "      <td>21</td>\n",
       "    </tr>\n",
       "    <tr>\n",
       "      <th>220698</th>\n",
       "      <td>2022-12-31 21:17:14.225225-03:00</td>\n",
       "      <td>-19.898783</td>\n",
       "      <td>-45.743891</td>\n",
       "      <td>1</td>\n",
       "      <td>31</td>\n",
       "      <td>12</td>\n",
       "      <td>2022</td>\n",
       "      <td>21</td>\n",
       "    </tr>\n",
       "    <tr>\n",
       "      <th>220699</th>\n",
       "      <td>2022-12-31 21:19:20.140002-03:00</td>\n",
       "      <td>-19.850383</td>\n",
       "      <td>-45.746191</td>\n",
       "      <td>1</td>\n",
       "      <td>31</td>\n",
       "      <td>12</td>\n",
       "      <td>2022</td>\n",
       "      <td>21</td>\n",
       "    </tr>\n",
       "    <tr>\n",
       "      <th>220700</th>\n",
       "      <td>2022-12-31 21:21:54.263374-03:00</td>\n",
       "      <td>-19.866583</td>\n",
       "      <td>-45.770191</td>\n",
       "      <td>1</td>\n",
       "      <td>31</td>\n",
       "      <td>12</td>\n",
       "      <td>2022</td>\n",
       "      <td>21</td>\n",
       "    </tr>\n",
       "  </tbody>\n",
       "</table>\n",
       "<p>220701 rows × 8 columns</p>\n",
       "</div>"
      ],
      "text/plain": [
       "                                   Data   Latitude  Longitude  Tipo  Dia  Mes  \\\n",
       "0             2022-01-01 16:55:56-03:00 -20.326783 -45.989391     0    1    1   \n",
       "1             2022-01-01 16:55:56-03:00 -20.322183 -45.987291     0    1    1   \n",
       "2      2022-01-01 16:55:56.985000-03:00 -20.337263 -45.975291     1    1    1   \n",
       "3      2022-01-01 16:55:56.997000-03:00 -20.334103 -45.985891     0    1    1   \n",
       "4             2022-01-01 16:55:57-03:00 -20.333383 -46.018591     0    1    1   \n",
       "...                                 ...        ...        ...   ...  ...  ...   \n",
       "220696 2022-12-31 21:14:53.433000-03:00 -19.867303 -45.706591     1   31   12   \n",
       "220697 2022-12-31 21:14:53.455790-03:00 -19.898383 -45.744691     1   31   12   \n",
       "220698 2022-12-31 21:17:14.225225-03:00 -19.898783 -45.743891     1   31   12   \n",
       "220699 2022-12-31 21:19:20.140002-03:00 -19.850383 -45.746191     1   31   12   \n",
       "220700 2022-12-31 21:21:54.263374-03:00 -19.866583 -45.770191     1   31   12   \n",
       "\n",
       "         Ano  Hora  \n",
       "0       2022    16  \n",
       "1       2022    16  \n",
       "2       2022    16  \n",
       "3       2022    16  \n",
       "4       2022    16  \n",
       "...      ...   ...  \n",
       "220696  2022    21  \n",
       "220697  2022    21  \n",
       "220698  2022    21  \n",
       "220699  2022    21  \n",
       "220700  2022    21  \n",
       "\n",
       "[220701 rows x 8 columns]"
      ]
     },
     "execution_count": 7,
     "metadata": {},
     "output_type": "execute_result"
    }
   ],
   "source": [
    "# Extraindo dia, mês, ano e hora da coluna Data\n",
    "\n",
    "df['Dia'] = df['Data'].dt.day\n",
    "df['Mes'] = df['Data'].dt.month\n",
    "df['Ano'] = df['Data'].dt.year\n",
    "df['Hora'] = df['Data'].dt.hour\n",
    "df"
   ]
  },
  {
   "cell_type": "code",
   "execution_count": null,
   "metadata": {},
   "outputs": [],
   "source": [
    "# Mudando o tipo das colunas Latitude e longitude para String\n",
    "\n",
    "df['Latitude_Str'] = df['Latitude'].astype('string')\n",
    "df['Longitude_Str'] = df['Longitude'].astype('string')"
   ]
  },
  {
   "cell_type": "code",
   "execution_count": 24,
   "metadata": {},
   "outputs": [
    {
     "data": {
      "text/plain": [
       "0           -20.32678314110823 -45.98939118851705\n",
       "1           -20.32218314110823 -45.98729118851705\n",
       "2          -20.337263141108227 -45.97529118851705\n",
       "3           -20.33410314110823 -45.98589118851705\n",
       "4           -20.33338314110823 -46.01859118851705\n",
       "                           ...                   \n",
       "220696     -19.86730314110823 -45.706591188517045\n",
       "220697     -19.89838314110823 -45.744691188517045\n",
       "220698      -19.89878314110823 -45.74389118851705\n",
       "220699    -19.850383141108228 -45.746191188517045\n",
       "220700     -19.86658314110823 -45.770191188517046\n",
       "Name: Lati_Longi, Length: 220701, dtype: string"
      ]
     },
     "execution_count": 24,
     "metadata": {},
     "output_type": "execute_result"
    }
   ],
   "source": [
    "# Concatenando as duas colunas para conseguir os pares exatos\n",
    "\n",
    "df['Lati_Longi'] = df['Latitude_Str'].str.cat(df['Longitude_Str'], sep= ' ')\n",
    "df['Lati_Longi']"
   ]
  },
  {
   "cell_type": "code",
   "execution_count": 35,
   "metadata": {},
   "outputs": [],
   "source": [
    "# Filtrando valores por mês\n",
    "\n",
    "Janeiro = df.query('Mes == 1')\n",
    "\n",
    "Fevereiro = df.query('Mes == 2')\n"
   ]
  },
  {
   "cell_type": "code",
   "execution_count": 42,
   "metadata": {},
   "outputs": [
    {
     "data": {
      "text/plain": [
       "<StringArray>\n",
       "[ '-19.76708314110823 -46.16899118851705',\n",
       " '-19.764183141108223 -46.19089118851705',\n",
       " '-19.76388314110823 -46.233791188517046',\n",
       " '-19.763683141108228 -46.19219118851705',\n",
       " '-19.741283141108227 -46.20669118851705',\n",
       "  '-19.76288314110823 -46.23049118851705',\n",
       " '-19.763583141108228 -46.23939118851705',\n",
       " '-19.763483141108228 -46.21209118851705',\n",
       "  '-19.75058314110823 -46.24829118851705',\n",
       " '-19.740223141108228 -46.08669118851705',\n",
       " ...\n",
       " '-20.06068314110823 -46.279991188517045',\n",
       " '-19.99958314110823 -46.297991188517045',\n",
       "  '-20.05668314110823 -46.29569118851705',\n",
       " '-19.999883141108228 -46.30639118851705',\n",
       " '-20.004983141108227 -46.30709118851705',\n",
       " '-19.994823141108228 -46.32009118851705',\n",
       " '-19.99844314110823 -46.331591188517045',\n",
       " '-19.992483141108227 -46.36409118851705',\n",
       "  '-20.05718314110823 -46.28909118851705',\n",
       " '-20.06208314110823 -46.274891188517046']\n",
       "Length: 14221, dtype: string"
      ]
     },
     "execution_count": 42,
     "metadata": {},
     "output_type": "execute_result"
    }
   ],
   "source": [
    "# Verificando valores unicos na coluna Lati_Longi\n",
    "\n",
    "Janeiro['Lati_Longi'].unique()\n",
    "Fevereiro['Lati_Longi'].unique()"
   ]
  },
  {
   "cell_type": "code",
   "execution_count": 59,
   "metadata": {},
   "outputs": [
    {
     "ename": "KeyError",
     "evalue": "'Mes'",
     "output_type": "error",
     "traceback": [
      "\u001b[0;31m---------------------------------------------------------------------------\u001b[0m",
      "\u001b[0;31mKeyError\u001b[0m                                  Traceback (most recent call last)",
      "\u001b[0;32m~/.local/lib/python3.7/site-packages/pandas/core/indexes/base.py\u001b[0m in \u001b[0;36mget_loc\u001b[0;34m(self, key, method, tolerance)\u001b[0m\n\u001b[1;32m   3360\u001b[0m             \u001b[0;32mtry\u001b[0m\u001b[0;34m:\u001b[0m\u001b[0;34m\u001b[0m\u001b[0;34m\u001b[0m\u001b[0m\n\u001b[0;32m-> 3361\u001b[0;31m                 \u001b[0;32mreturn\u001b[0m \u001b[0mself\u001b[0m\u001b[0;34m.\u001b[0m\u001b[0m_engine\u001b[0m\u001b[0;34m.\u001b[0m\u001b[0mget_loc\u001b[0m\u001b[0;34m(\u001b[0m\u001b[0mcasted_key\u001b[0m\u001b[0;34m)\u001b[0m\u001b[0;34m\u001b[0m\u001b[0;34m\u001b[0m\u001b[0m\n\u001b[0m\u001b[1;32m   3362\u001b[0m             \u001b[0;32mexcept\u001b[0m \u001b[0mKeyError\u001b[0m \u001b[0;32mas\u001b[0m \u001b[0merr\u001b[0m\u001b[0;34m:\u001b[0m\u001b[0;34m\u001b[0m\u001b[0;34m\u001b[0m\u001b[0m\n",
      "\u001b[0;32m~/.local/lib/python3.7/site-packages/pandas/_libs/index.pyx\u001b[0m in \u001b[0;36mpandas._libs.index.IndexEngine.get_loc\u001b[0;34m()\u001b[0m\n",
      "\u001b[0;32m~/.local/lib/python3.7/site-packages/pandas/_libs/index.pyx\u001b[0m in \u001b[0;36mpandas._libs.index.IndexEngine.get_loc\u001b[0;34m()\u001b[0m\n",
      "\u001b[0;32mpandas/_libs/hashtable_class_helper.pxi\u001b[0m in \u001b[0;36mpandas._libs.hashtable.PyObjectHashTable.get_item\u001b[0;34m()\u001b[0m\n",
      "\u001b[0;32mpandas/_libs/hashtable_class_helper.pxi\u001b[0m in \u001b[0;36mpandas._libs.hashtable.PyObjectHashTable.get_item\u001b[0;34m()\u001b[0m\n",
      "\u001b[0;31mKeyError\u001b[0m: 'Mes'",
      "\nThe above exception was the direct cause of the following exception:\n",
      "\u001b[0;31mKeyError\u001b[0m                                  Traceback (most recent call last)",
      "\u001b[0;32m/tmp/ipykernel_14593/1013521846.py\u001b[0m in \u001b[0;36m<module>\u001b[0;34m\u001b[0m\n\u001b[0;32m----> 1\u001b[0;31m \u001b[0mdf\u001b[0m\u001b[0;34m[\u001b[0m\u001b[0;34m'Mes'\u001b[0m\u001b[0;34m]\u001b[0m\u001b[0;34m.\u001b[0m\u001b[0munique\u001b[0m\u001b[0;34m\u001b[0m\u001b[0;34m\u001b[0m\u001b[0m\n\u001b[0m",
      "\u001b[0;32m~/.local/lib/python3.7/site-packages/pandas/core/frame.py\u001b[0m in \u001b[0;36m__getitem__\u001b[0;34m(self, key)\u001b[0m\n\u001b[1;32m   3456\u001b[0m             \u001b[0;32mif\u001b[0m \u001b[0mself\u001b[0m\u001b[0;34m.\u001b[0m\u001b[0mcolumns\u001b[0m\u001b[0;34m.\u001b[0m\u001b[0mnlevels\u001b[0m \u001b[0;34m>\u001b[0m \u001b[0;36m1\u001b[0m\u001b[0;34m:\u001b[0m\u001b[0;34m\u001b[0m\u001b[0;34m\u001b[0m\u001b[0m\n\u001b[1;32m   3457\u001b[0m                 \u001b[0;32mreturn\u001b[0m \u001b[0mself\u001b[0m\u001b[0;34m.\u001b[0m\u001b[0m_getitem_multilevel\u001b[0m\u001b[0;34m(\u001b[0m\u001b[0mkey\u001b[0m\u001b[0;34m)\u001b[0m\u001b[0;34m\u001b[0m\u001b[0;34m\u001b[0m\u001b[0m\n\u001b[0;32m-> 3458\u001b[0;31m             \u001b[0mindexer\u001b[0m \u001b[0;34m=\u001b[0m \u001b[0mself\u001b[0m\u001b[0;34m.\u001b[0m\u001b[0mcolumns\u001b[0m\u001b[0;34m.\u001b[0m\u001b[0mget_loc\u001b[0m\u001b[0;34m(\u001b[0m\u001b[0mkey\u001b[0m\u001b[0;34m)\u001b[0m\u001b[0;34m\u001b[0m\u001b[0;34m\u001b[0m\u001b[0m\n\u001b[0m\u001b[1;32m   3459\u001b[0m             \u001b[0;32mif\u001b[0m \u001b[0mis_integer\u001b[0m\u001b[0;34m(\u001b[0m\u001b[0mindexer\u001b[0m\u001b[0;34m)\u001b[0m\u001b[0;34m:\u001b[0m\u001b[0;34m\u001b[0m\u001b[0;34m\u001b[0m\u001b[0m\n\u001b[1;32m   3460\u001b[0m                 \u001b[0mindexer\u001b[0m \u001b[0;34m=\u001b[0m \u001b[0;34m[\u001b[0m\u001b[0mindexer\u001b[0m\u001b[0;34m]\u001b[0m\u001b[0;34m\u001b[0m\u001b[0;34m\u001b[0m\u001b[0m\n",
      "\u001b[0;32m~/.local/lib/python3.7/site-packages/pandas/core/indexes/base.py\u001b[0m in \u001b[0;36mget_loc\u001b[0;34m(self, key, method, tolerance)\u001b[0m\n\u001b[1;32m   3361\u001b[0m                 \u001b[0;32mreturn\u001b[0m \u001b[0mself\u001b[0m\u001b[0;34m.\u001b[0m\u001b[0m_engine\u001b[0m\u001b[0;34m.\u001b[0m\u001b[0mget_loc\u001b[0m\u001b[0;34m(\u001b[0m\u001b[0mcasted_key\u001b[0m\u001b[0;34m)\u001b[0m\u001b[0;34m\u001b[0m\u001b[0;34m\u001b[0m\u001b[0m\n\u001b[1;32m   3362\u001b[0m             \u001b[0;32mexcept\u001b[0m \u001b[0mKeyError\u001b[0m \u001b[0;32mas\u001b[0m \u001b[0merr\u001b[0m\u001b[0;34m:\u001b[0m\u001b[0;34m\u001b[0m\u001b[0;34m\u001b[0m\u001b[0m\n\u001b[0;32m-> 3363\u001b[0;31m                 \u001b[0;32mraise\u001b[0m \u001b[0mKeyError\u001b[0m\u001b[0;34m(\u001b[0m\u001b[0mkey\u001b[0m\u001b[0;34m)\u001b[0m \u001b[0;32mfrom\u001b[0m \u001b[0merr\u001b[0m\u001b[0;34m\u001b[0m\u001b[0;34m\u001b[0m\u001b[0m\n\u001b[0m\u001b[1;32m   3364\u001b[0m \u001b[0;34m\u001b[0m\u001b[0m\n\u001b[1;32m   3365\u001b[0m         \u001b[0;32mif\u001b[0m \u001b[0mis_scalar\u001b[0m\u001b[0;34m(\u001b[0m\u001b[0mkey\u001b[0m\u001b[0;34m)\u001b[0m \u001b[0;32mand\u001b[0m \u001b[0misna\u001b[0m\u001b[0;34m(\u001b[0m\u001b[0mkey\u001b[0m\u001b[0;34m)\u001b[0m \u001b[0;32mand\u001b[0m \u001b[0;32mnot\u001b[0m \u001b[0mself\u001b[0m\u001b[0;34m.\u001b[0m\u001b[0mhasnans\u001b[0m\u001b[0;34m:\u001b[0m\u001b[0;34m\u001b[0m\u001b[0;34m\u001b[0m\u001b[0m\n",
      "\u001b[0;31mKeyError\u001b[0m: 'Mes'"
     ]
    }
   ],
   "source": []
  },
  {
   "cell_type": "code",
   "execution_count": 49,
   "metadata": {},
   "outputs": [
    {
     "data": {
      "text/plain": [
       "(14961,)"
      ]
     },
     "execution_count": 49,
     "metadata": {},
     "output_type": "execute_result"
    }
   ],
   "source": [
    "Fevereiro['Latitude'].shape"
   ]
  },
  {
   "cell_type": "markdown",
   "metadata": {},
   "source": [
    "### Dados inconsistentes\n",
    "\n",
    "A coluna Tipo foi verificada com o obrjtivo de verificar se havia mais tipos de descarga nuvem-solo(0) ou intranuvem (1), contudo, contando os valores havia um registro diferente do esperado para essa coluna, o valor 40. "
   ]
  },
  {
   "cell_type": "code",
   "execution_count": 8,
   "metadata": {},
   "outputs": [
    {
     "data": {
      "text/html": [
       "<div>\n",
       "<style scoped>\n",
       "    .dataframe tbody tr th:only-of-type {\n",
       "        vertical-align: middle;\n",
       "    }\n",
       "\n",
       "    .dataframe tbody tr th {\n",
       "        vertical-align: top;\n",
       "    }\n",
       "\n",
       "    .dataframe thead th {\n",
       "        text-align: right;\n",
       "    }\n",
       "</style>\n",
       "<table border=\"1\" class=\"dataframe\">\n",
       "  <thead>\n",
       "    <tr style=\"text-align: right;\">\n",
       "      <th></th>\n",
       "      <th>Data</th>\n",
       "      <th>Latitude</th>\n",
       "      <th>Longitude</th>\n",
       "      <th>Dia</th>\n",
       "      <th>Mes</th>\n",
       "      <th>Ano</th>\n",
       "      <th>Hora</th>\n",
       "    </tr>\n",
       "    <tr>\n",
       "      <th>Tipo</th>\n",
       "      <th></th>\n",
       "      <th></th>\n",
       "      <th></th>\n",
       "      <th></th>\n",
       "      <th></th>\n",
       "      <th></th>\n",
       "      <th></th>\n",
       "    </tr>\n",
       "  </thead>\n",
       "  <tbody>\n",
       "    <tr>\n",
       "      <th>0</th>\n",
       "      <td>78407</td>\n",
       "      <td>78407</td>\n",
       "      <td>78407</td>\n",
       "      <td>78407</td>\n",
       "      <td>78407</td>\n",
       "      <td>78407</td>\n",
       "      <td>78407</td>\n",
       "    </tr>\n",
       "    <tr>\n",
       "      <th>1</th>\n",
       "      <td>142180</td>\n",
       "      <td>142180</td>\n",
       "      <td>142180</td>\n",
       "      <td>142180</td>\n",
       "      <td>142180</td>\n",
       "      <td>142180</td>\n",
       "      <td>142180</td>\n",
       "    </tr>\n",
       "    <tr>\n",
       "      <th>40</th>\n",
       "      <td>114</td>\n",
       "      <td>114</td>\n",
       "      <td>114</td>\n",
       "      <td>114</td>\n",
       "      <td>114</td>\n",
       "      <td>114</td>\n",
       "      <td>114</td>\n",
       "    </tr>\n",
       "  </tbody>\n",
       "</table>\n",
       "</div>"
      ],
      "text/plain": [
       "        Data  Latitude  Longitude     Dia     Mes     Ano    Hora\n",
       "Tipo                                                             \n",
       "0      78407     78407      78407   78407   78407   78407   78407\n",
       "1     142180    142180     142180  142180  142180  142180  142180\n",
       "40       114       114        114     114     114     114     114"
      ]
     },
     "execution_count": 8,
     "metadata": {},
     "output_type": "execute_result"
    }
   ],
   "source": [
    "# Agrupando os dados de acordo com o tipo.\n",
    "\n",
    "df.groupby(['Tipo']).count() "
   ]
  },
  {
   "cell_type": "code",
   "execution_count": 9,
   "metadata": {},
   "outputs": [],
   "source": [
    "# filtrando valor inconsistente\n",
    "\n",
    "valor_inconsistente = df['Tipo'] == 40\n",
    "#valor_inconsistente.describe()\n",
    "df_filtrado = df[valor_inconsistente]\n"
   ]
  },
  {
   "cell_type": "markdown",
   "metadata": {},
   "source": [
    "Os valores inconsistentes não podem ser apagados do nosso dataframe sem antes serem analisados, sendo assim, é necessário uma investigação mais profunda."
   ]
  },
  {
   "cell_type": "code",
   "execution_count": 10,
   "metadata": {},
   "outputs": [
    {
     "data": {
      "text/plain": [
       "51833      8\n",
       "56789      8\n",
       "57885      8\n",
       "71024      9\n",
       "72412      9\n",
       "          ..\n",
       "219356    12\n",
       "219386    12\n",
       "219792    12\n",
       "220072    12\n",
       "220547    12\n",
       "Name: Mes, Length: 114, dtype: int64"
      ]
     },
     "execution_count": 10,
     "metadata": {},
     "output_type": "execute_result"
    }
   ],
   "source": [
    "# Em quais meses esse erro ocorreu? Existe algum padrão?\n",
    "\n",
    "df_filtrado['Mes']"
   ]
  },
  {
   "cell_type": "code",
   "execution_count": 11,
   "metadata": {},
   "outputs": [
    {
     "data": {
      "image/png": "[encoded data removed]",
      "text/plain": [
       "<Figure size 432x288 with 1 Axes>"
      ]
     },
     "metadata": {
      "needs_background": "light"
     },
     "output_type": "display_data"
    }
   ],
   "source": [
    "# Histograma \n",
    "\n",
    "plt.hist(df_filtrado['Mes'],5, rwidth=1)\n",
    "plt.title('Meses em que o valor inconsistente apareceu', fontsize = 20)\n",
    "plt.xlabel('Mês',fontsize = 15)\n",
    "plt.ylabel('Frequência Absoluta', fontsize = 15)\n",
    "plt.tick_params(labelsize = 12)\n"
   ]
  },
  {
   "cell_type": "markdown",
   "metadata": {},
   "source": [
    "Foi de agosto a dezembro que esses registros apareceram."
   ]
  },
  {
   "cell_type": "code",
   "execution_count": 14,
   "metadata": {},
   "outputs": [
    {
     "data": {
      "text/plain": [
       "51833     -19.742283141108228\n",
       "56789     -19.971083141108227\n",
       "57885      -20.05818314110823\n",
       "71024      -20.30148314110823\n",
       "72412     -20.175283141108228\n",
       "                 ...         \n",
       "219356     -19.73418314110823\n",
       "219386     -19.91428314110823\n",
       "219792     -20.01878314110823\n",
       "220072     -20.24038314110823\n",
       "220547    -20.227083141108228\n",
       "Name: Latitude, Length: 114, dtype: string"
      ]
     },
     "execution_count": 14,
     "metadata": {},
     "output_type": "execute_result"
    }
   ],
   "source": [
    "#df_filtrado['f_latitude'] = \n",
    "df_filtrado['Latitude'].astype('string')"
   ]
  },
  {
   "cell_type": "markdown",
   "metadata": {},
   "source": []
  },
  {
   "cell_type": "code",
   "execution_count": 16,
   "metadata": {},
   "outputs": [
    {
     "data": {
      "text/plain": [
       "51833    -19.742283\n",
       "56789    -19.971083\n",
       "57885    -20.058183\n",
       "71024    -20.301483\n",
       "72412    -20.175283\n",
       "            ...    \n",
       "219356   -19.734183\n",
       "219386   -19.914283\n",
       "219792   -20.018783\n",
       "220072   -20.240383\n",
       "220547   -20.227083\n",
       "Name: Latitude, Length: 114, dtype: float64"
      ]
     },
     "execution_count": 16,
     "metadata": {},
     "output_type": "execute_result"
    }
   ],
   "source": [
    "df_filtrado['Latitude']"
   ]
  },
  {
   "cell_type": "code",
   "execution_count": null,
   "metadata": {},
   "outputs": [
    {
     "data": {
      "text/plain": [
       "51833    -19.742283\n",
       "56789    -19.971083\n",
       "57885    -20.058183\n",
       "71024    -20.301483\n",
       "72412    -20.175283\n",
       "            ...    \n",
       "219356   -19.734183\n",
       "219386   -19.914283\n",
       "219792   -20.018783\n",
       "220072   -20.240383\n",
       "220547   -20.227083\n",
       "Name: Latitude, Length: 114, dtype: float64"
      ]
     },
     "execution_count": 13,
     "metadata": {},
     "output_type": "execute_result"
    }
   ],
   "source": [
    "df_filtrado['Latitude']"
   ]
  },
  {
   "cell_type": "markdown",
   "metadata": {},
   "source": [
    "## Mapa"
   ]
  },
  {
   "cell_type": "code",
   "execution_count": null,
   "metadata": {},
   "outputs": [
    {
     "data": {
      "text/html": [
       "<div style=\"width:100%;\"><div style=\"position:relative;width:100%;height:0;padding-bottom:60%;\"><span style=\"color:#565656\">Make this Notebook Trusted to load map: File -> Trust Notebook</span><iframe srcdoc=\"&lt;!DOCTYPE html&gt;\n",
       "&lt;html&gt;\n",
       "&lt;head&gt;\n",
       "    \n",
       "    &lt;meta http-equiv=&quot;content-type&quot; content=&quot;text/html; charset=UTF-8&quot; /&gt;\n",
       "    \n",
       "        &lt;script&gt;\n",
       "            L_NO_TOUCH = false;\n",
       "            L_DISABLE_3D = false;\n",
       "        &lt;/script&gt;\n",
       "    \n",
       "    &lt;style&gt;html, body {width: 100%;height: 100%;margin: 0;padding: 0;}&lt;/style&gt;\n",
       "    &lt;style&gt;#map {position:absolute;top:0;bottom:0;right:0;left:0;}&lt;/style&gt;\n",
       "    &lt;script src=&quot;https://cdn.jsdelivr.net/npm/leaflet@1.9.3/dist/leaflet.js&quot;&gt;&lt;/script&gt;\n",
       "    &lt;script src=&quot;https://code.jquery.com/jquery-3.7.1.min.js&quot;&gt;&lt;/script&gt;\n",
       "    &lt;script src=&quot;https://cdn.jsdelivr.net/npm/bootstrap@5.2.2/dist/js/bootstrap.bundle.min.js&quot;&gt;&lt;/script&gt;\n",
       "    &lt;script src=&quot;https://cdnjs.cloudflare.com/ajax/libs/Leaflet.awesome-markers/2.0.2/leaflet.awesome-markers.js&quot;&gt;&lt;/script&gt;\n",
       "    &lt;link rel=&quot;stylesheet&quot; href=&quot;https://cdn.jsdelivr.net/npm/leaflet@1.9.3/dist/leaflet.css&quot;/&gt;\n",
       "    &lt;link rel=&quot;stylesheet&quot; href=&quot;https://cdn.jsdelivr.net/npm/bootstrap@5.2.2/dist/css/bootstrap.min.css&quot;/&gt;\n",
       "    &lt;link rel=&quot;stylesheet&quot; href=&quot;https://netdna.bootstrapcdn.com/bootstrap/3.0.0/css/bootstrap.min.css&quot;/&gt;\n",
       "    &lt;link rel=&quot;stylesheet&quot; href=&quot;https://cdn.jsdelivr.net/npm/@fortawesome/fontawesome-free@6.2.0/css/all.min.css&quot;/&gt;\n",
       "    &lt;link rel=&quot;stylesheet&quot; href=&quot;https://cdnjs.cloudflare.com/ajax/libs/Leaflet.awesome-markers/2.0.2/leaflet.awesome-markers.css&quot;/&gt;\n",
       "    &lt;link rel=&quot;stylesheet&quot; href=&quot;https://cdn.jsdelivr.net/gh/python-visualization/folium/folium/templates/leaflet.awesome.rotate.min.css&quot;/&gt;\n",
       "    \n",
       "            &lt;meta name=&quot;viewport&quot; content=&quot;width=device-width,\n",
       "                initial-scale=1.0, maximum-scale=1.0, user-scalable=no&quot; /&gt;\n",
       "            &lt;style&gt;\n",
       "                #map_beea53f15388d4aa5a7843447de8cff8 {\n",
       "                    position: relative;\n",
       "                    width: 100.0%;\n",
       "                    height: 100.0%;\n",
       "                    left: 0.0%;\n",
       "                    top: 0.0%;\n",
       "                }\n",
       "                .leaflet-container { font-size: 1rem; }\n",
       "            &lt;/style&gt;\n",
       "        \n",
       "&lt;/head&gt;\n",
       "&lt;body&gt;\n",
       "    \n",
       "    \n",
       "            &lt;div class=&quot;folium-map&quot; id=&quot;map_beea53f15388d4aa5a7843447de8cff8&quot; &gt;&lt;/div&gt;\n",
       "        \n",
       "&lt;/body&gt;\n",
       "&lt;script&gt;\n",
       "    \n",
       "    \n",
       "            var map_beea53f15388d4aa5a7843447de8cff8 = L.map(\n",
       "                &quot;map_beea53f15388d4aa5a7843447de8cff8&quot;,\n",
       "                {\n",
       "                    center: [-20.326783, -45.989391],\n",
       "                    crs: L.CRS.EPSG3857,\n",
       "                    zoom: 9,\n",
       "                    zoomControl: true,\n",
       "                    preferCanvas: false,\n",
       "                }\n",
       "            );\n",
       "\n",
       "            \n",
       "\n",
       "        \n",
       "    \n",
       "            var tile_layer_37685025806b05fd6cc1048d98873df9 = L.tileLayer(\n",
       "                &quot;https://tile.openstreetmap.org/{z}/{x}/{y}.png&quot;,\n",
       "                {&quot;attribution&quot;: &quot;\\u0026copy; \\u003ca href=\\&quot;https://www.openstreetmap.org/copyright\\&quot;\\u003eOpenStreetMap\\u003c/a\\u003e contributors&quot;, &quot;detectRetina&quot;: false, &quot;maxNativeZoom&quot;: 19, &quot;maxZoom&quot;: 19, &quot;minZoom&quot;: 0, &quot;noWrap&quot;: false, &quot;opacity&quot;: 1, &quot;subdomains&quot;: &quot;abc&quot;, &quot;tms&quot;: false}\n",
       "            );\n",
       "        \n",
       "    \n",
       "            tile_layer_37685025806b05fd6cc1048d98873df9.addTo(map_beea53f15388d4aa5a7843447de8cff8);\n",
       "        \n",
       "&lt;/script&gt;\n",
       "&lt;/html&gt;\" style=\"position:absolute;width:100%;height:100%;left:0;top:0;border:none !important;\" allowfullscreen webkitallowfullscreen mozallowfullscreen></iframe></div></div>"
      ],
      "text/plain": [
       "<folium.folium.Map at 0x7f523505eb00>"
      ]
     },
     "execution_count": 14,
     "metadata": {},
     "output_type": "execute_result"
    }
   ],
   "source": [
    "folium.Map(location = [-20.326783,-45.989391], zoom_start = 9)\n"
   ]
  }
 ],
 "metadata": {
  "kernelspec": {
   "display_name": "Python 3 (ipykernel)",
   "language": "python",
   "name": "python3"
  },
  "language_info": {
   "codemirror_mode": {
    "name": "ipython",
    "version": 3
   },
   "file_extension": ".py",
   "mimetype": "text/x-python",
   "name": "python",
   "nbconvert_exporter": "python",
   "pygments_lexer": "ipython3",
   "version": "3.7.3"
  }
 },
 "nbformat": 4,
 "nbformat_minor": 2
}
